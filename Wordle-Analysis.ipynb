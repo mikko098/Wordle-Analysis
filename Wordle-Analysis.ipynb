{
 "cells": [
  {
   "cell_type": "code",
   "execution_count": 131,
   "id": "87fbdfc2-c98d-4490-827a-3aa046499944",
   "metadata": {},
   "outputs": [],
   "source": [
    "import itertools\n",
    "import math\n",
    "import numpy as np\n",
    "import json\n",
    "import matplotlib.pyplot as plt\n",
    "import os"
   ]
  },
  {
   "cell_type": "markdown",
   "id": "ae2c81cd-f8a8-4a6f-ac55-ccfcefe0a189",
   "metadata": {},
   "source": [
    "**WORDLE BEST GUESS CALCULATOR**"
   ]
  },
  {
   "cell_type": "markdown",
   "id": "234864b2-c349-4491-8cb3-7e9cb3da6fdf",
   "metadata": {},
   "source": [
    "Step 1: Create functions that simulate the wordle game"
   ]
  },
  {
   "cell_type": "markdown",
   "id": "0b43bfff-0d05-4650-ade2-95a2aec2abde",
   "metadata": {},
   "source": [
    "- checked checks whether the position of the letter that is being checked in the answer word has been considered before. (prevents multiple green for one letter)\n",
    "- iterates through the 5 letter word guessed one letter at a time comparing them to the answer\n",
    "- returns an output string representing the word"
   ]
  },
  {
   "cell_type": "code",
   "execution_count": 22,
   "id": "7381fb38-5749-4131-89b3-7fbfb90c3f3b",
   "metadata": {},
   "outputs": [],
   "source": [
    "def find(my_list, value):\n",
    "    for index, element in enumerate(my_list):\n",
    "        if element == value:\n",
    "            return index\n",
    "    return -1"
   ]
  },
  {
   "cell_type": "code",
   "execution_count": 154,
   "id": "994f0912-ddff-47ae-b99a-db298cc3561c",
   "metadata": {},
   "outputs": [],
   "source": [
    "def check_word(guess, answer):\n",
    "    result = ['N'] * len(guess)  # Default all to 'N'\n",
    "    answer_list = list(answer)\n",
    "    \n",
    "    # First pass: Check for correct positions (greens)\n",
    "    for i, letter in enumerate(guess):\n",
    "        if letter == answer_list[i]:\n",
    "            result[i] = 'G'\n",
    "            answer_list[i] = None  # Mark this letter as used\n",
    "    \n",
    "    # Second pass: Check for correct letters in wrong positions (yellows)\n",
    "    for i, letter in enumerate(guess):\n",
    "        if result[i] == 'N' and letter in answer_list:\n",
    "            result[i] = 'Y'\n",
    "            answer_list[answer_list.index(letter)] = None  # Mark this letter as used\n",
    "    \n",
    "    return \"\".join(result)"
   ]
  },
  {
   "cell_type": "code",
   "execution_count": 70,
   "id": "6bffe8a0-eb8c-4bad-aeea-3a8fb908cbaa",
   "metadata": {},
   "outputs": [],
   "source": [
    "def create_hash_map():\n",
    "    hash_map = {}\n",
    "    for i in wordlist:\n",
    "        for j in answerlist:\n",
    "            hash_map[i + \", \" + j] = check_word(i, j)\n",
    "    return hash_map"
   ]
  },
  {
   "cell_type": "markdown",
   "id": "ed49c4e4-a370-41fd-bb2a-298ea60716bf",
   "metadata": {},
   "source": [
    "Preferably dont run this command, it provides a significant computational speedup but takes up 700 MB of memory"
   ]
  },
  {
   "cell_type": "code",
   "execution_count": 72,
   "id": "5bfb87b5-b9a7-4629-97f4-4fe2113ab175",
   "metadata": {},
   "outputs": [],
   "source": [
    "word_map = create_hash_map()"
   ]
  },
  {
   "cell_type": "markdown",
   "id": "866de34b-d7e1-4de6-9eb7-3e161fdc9c20",
   "metadata": {},
   "source": [
    "- wordfile : file containing list of all valid words in a wordle game\n",
    "- wordlist : wordfile content unpacked into a python list\n",
    "- answerfile : file containing list of all answer words in a wordle game\n",
    "- answerlist : answerfile content unpacked into a python list"
   ]
  },
  {
   "cell_type": "code",
   "execution_count": 117,
   "id": "2bb75e21-d64f-44fa-b6a1-6b6c5f93bf0f",
   "metadata": {},
   "outputs": [
    {
     "data": {
      "text/plain": [
       "14855"
      ]
     },
     "execution_count": 117,
     "metadata": {},
     "output_type": "execute_result"
    }
   ],
   "source": [
    "with open(r'wordlist.txt', 'r') as wordfile:\n",
    "    wordlist = wordfile.read().split()\n",
    "len(wordlist)"
   ]
  },
  {
   "cell_type": "code",
   "execution_count": 119,
   "id": "33aeb846-645f-4297-813e-514cbc58453f",
   "metadata": {},
   "outputs": [
    {
     "data": {
      "text/plain": [
       "2309"
      ]
     },
     "execution_count": 119,
     "metadata": {},
     "output_type": "execute_result"
    }
   ],
   "source": [
    "with open(r'solutionlist.txt', 'r') as answerfile:\n",
    "    answerlist = answerfile.read().split()\n",
    "len(answerlist)"
   ]
  },
  {
   "cell_type": "markdown",
   "id": "f8c9601c-6e80-461c-96c4-9d7aa01d425a",
   "metadata": {},
   "source": [
    "- <b> generate_permutations </b> : creates a list of all permutations of the specified characters\n",
    "- <b> permutations </b> : list of all permutations possible in a wordle game\n",
    "- <b> permutations_dict </b> : used for calculating probabilities of each permutation occuring for a specific word"
   ]
  },
  {
   "cell_type": "code",
   "execution_count": 122,
   "id": "556cff5c-cfd9-4849-adda-dfe0c883007f",
   "metadata": {},
   "outputs": [],
   "source": [
    "def generate_permutations(characters):\n",
    "    permutations = [''.join(p) for p in itertools.product(characters, repeat=5)]\n",
    "    return permutations"
   ]
  },
  {
   "cell_type": "code",
   "execution_count": 124,
   "id": "b10c9d07-651b-4bc7-8a6f-c891616014dc",
   "metadata": {},
   "outputs": [],
   "source": [
    "permutations = generate_permutations(['G', 'N', 'Y']);"
   ]
  },
  {
   "cell_type": "code",
   "execution_count": 126,
   "id": "bd0fa558-e80f-45b9-b31e-3e202df5dac0",
   "metadata": {
    "scrolled": true
   },
   "outputs": [],
   "source": [
    "permutation_dict = {perm : 0 for perm in permutations}"
   ]
  },
  {
   "cell_type": "markdown",
   "id": "b0b9cfa7-e01f-46bb-95ff-424aa07142fe",
   "metadata": {},
   "source": [
    "<b> new_list </b> : used to update the list of words to a newer list based upon the result of a guess"
   ]
  },
  {
   "cell_type": "code",
   "execution_count": 129,
   "id": "86e8ef4f-a3de-47aa-a72b-100fecf76031",
   "metadata": {},
   "outputs": [],
   "source": [
    "def new_list(guess, permutation, list):\n",
    "    newlist = []\n",
    "    for answer in list:\n",
    "        if check_word(guess, answer) == permutation:\n",
    "            newlist.append(answer)\n",
    "    return newlist"
   ]
  },
  {
   "cell_type": "markdown",
   "id": "d60a2d57-781f-4465-8e1d-11663ebd5c43",
   "metadata": {},
   "source": [
    "<b> find_probability_dict </b> : creates a dictionary of probabilities of each permutation for a specified guess"
   ]
  },
  {
   "cell_type": "code",
   "execution_count": 132,
   "id": "6967ce8e-069a-4579-9afa-3b8f189fffbe",
   "metadata": {},
   "outputs": [],
   "source": [
    "def find_probability_dict(guess, answerlist):\n",
    "    probability_dict = {}\n",
    "    for answer in answerlist:\n",
    "        perm = word_map[guess + \", \" + answer]\n",
    "        probability_dict[perm] = probability_dict.get(perm, 0) + (1 / len(answerlist))\n",
    "    return probability_dict"
   ]
  },
  {
   "cell_type": "markdown",
   "id": "7d0ecd46-6240-4b2b-bbdb-8d948083a7d2",
   "metadata": {},
   "source": [
    "<b> calculate_entropy </b> : calculates the entropy for a word based on the probability dictionary generated by find_probability_dict"
   ]
  },
  {
   "cell_type": "code",
   "execution_count": 135,
   "id": "1cc02fa1-e615-45c2-8332-b097c786bb63",
   "metadata": {},
   "outputs": [],
   "source": [
    "def calculate_entropy(probability_dict):\n",
    "    entropy = 0\n",
    "    for probability in probability_dict.values():\n",
    "        entropy += -1 * (probability * math.log(probability, 2))\n",
    "    return entropy"
   ]
  },
  {
   "cell_type": "code",
   "execution_count": 137,
   "id": "2fdab523-b254-43e0-b008-709199f3bafe",
   "metadata": {},
   "outputs": [],
   "source": [
    "#Creating a copy to not alter any information within wordlist and make it easier to experiment with\n",
    "remaining_words_list = wordlist.copy()"
   ]
  },
  {
   "cell_type": "markdown",
   "id": "ec19cfbf-d7b2-4eb9-903b-8a6d9c020e01",
   "metadata": {},
   "source": [
    "<b> entropy_dict</b> : A dictionary containing all words and the amount of information gained from each word"
   ]
  },
  {
   "cell_type": "code",
   "execution_count": 130,
   "id": "486f0b2c-cd10-4371-a652-254b1aab80ad",
   "metadata": {},
   "outputs": [],
   "source": [
    "#Calculate the entropy for each word in the list\n",
    "entropy_dict = {}\n",
    "for word in remaining_words_list:\n",
    "            probdict = find_probability_dict(word, answerlist)\n",
    "            entropy = calculate_entropy(probdict)\n",
    "            entropy_dict[word] = entropy"
   ]
  },
  {
   "cell_type": "markdown",
   "id": "2b5e3b8b-e6ea-4047-9ee5-724f2ce2164d",
   "metadata": {},
   "source": [
    "<b> sorted_entropy_dict</b> : Sorted version of the entropy_dict "
   ]
  },
  {
   "cell_type": "code",
   "execution_count": 134,
   "id": "ca91f8e3-0d3d-499b-bcab-a65a369bd5b6",
   "metadata": {},
   "outputs": [],
   "source": [
    "#Sort the dictionary based on entropy values\n",
    "sorted_entropy_dict = dict(sorted(entropy_dict.items(), key = lambda item: item[1], reverse = True))"
   ]
  },
  {
   "cell_type": "code",
   "execution_count": null,
   "id": "18a573df-9005-42f3-a748-d6dd30cebd96",
   "metadata": {},
   "outputs": [],
   "source": [
    "entropy_dict_two_steps : Performs a second "
   ]
  },
  {
   "cell_type": "code",
   "execution_count": 102,
   "id": "163e0a45-dcdf-47b3-b3ee-7bbbb94290dc",
   "metadata": {
    "collapsed": true,
    "jupyter": {
     "outputs_hidden": true
    }
   },
   "outputs": [
    {
     "name": "stdout",
     "output_type": "stream",
     "text": [
      "WORD : tarse ENTROPY : 4.1068145555471665\n",
      "WORD : tiare ENTROPY : 4.076608858095578\n",
      "WORD : soare ENTROPY : 4.107623263495029\n",
      "WORD : roate ENTROPY : 4.110602875896228\n",
      "WORD : raise ENTROPY : 4.076821629156655\n",
      "WORD : reast ENTROPY : 4.151920545448849\n",
      "WORD : raile ENTROPY : 4.125283838598162\n",
      "WORD : slate ENTROPY : 4.183570042068703\n",
      "WORD : salet ENTROPY : 4.182314795562495\n",
      "WORD : crate ENTROPY : 4.179291376808235\n",
      "WORD : irate ENTROPY : 4.134813176196052\n",
      "WORD : trace ENTROPY : 4.187590457766297\n",
      "WORD : sater ENTROPY : 4.1853758617617425\n",
      "WORD : arise ENTROPY : 4.115017193445619\n",
      "WORD : orate ENTROPY : 4.137798593467071\n",
      "WORD : stare ENTROPY : 4.182436100533191\n",
      "WORD : carte ENTROPY : 4.204828670076519\n",
      "WORD : raine ENTROPY : 4.187660639047795\n",
      "WORD : ranse ENTROPY : 4.214081872134109\n",
      "WORD : caret ENTROPY : 4.205392633582906\n",
      "WORD : ariel ENTROPY : 4.1607654580817455\n",
      "WORD : taler ENTROPY : 4.160382068927504\n",
      "WORD : carle ENTROPY : 4.24078259902201\n",
      "WORD : slane ENTROPY : 4.268327443048271\n",
      "WORD : snare ENTROPY : 4.202200353574099\n",
      "WORD : artel ENTROPY : 4.193591709472676\n",
      "WORD : strae ENTROPY : 4.190129053905161\n",
      "WORD : arose ENTROPY : 4.199890978857456\n",
      "WORD : carse ENTROPY : 4.232681809592413\n",
      "WORD : saine ENTROPY : 4.194970705059522\n",
      "WORD : earst ENTROPY : 4.205453390414866\n",
      "WORD : taser ENTROPY : 4.20618717271638\n",
      "WORD : least ENTROPY : 4.225781715329297\n",
      "WORD : tares ENTROPY : 4.2068091008988695\n",
      "WORD : alert ENTROPY : 4.172715495545337\n",
      "WORD : crane ENTROPY : 4.238389090086993\n",
      "WORD : seral ENTROPY : 4.174085336520739\n",
      "WORD : stale ENTROPY : 4.239051495003992\n",
      "WORD : saner ENTROPY : 4.222076859031588\n",
      "WORD : ratel ENTROPY : 4.189649977728266\n",
      "WORD : torse ENTROPY : 4.275190253938806\n",
      "WORD : resat ENTROPY : 4.211665216184328\n",
      "WORD : tears ENTROPY : 4.220896301558561\n",
      "WORD : carne ENTROPY : 4.259004432225727\n",
      "WORD : alter ENTROPY : 4.2278550771245165\n",
      "WORD : sacre ENTROPY : 4.263973515576729\n",
      "WORD : later ENTROPY : 4.193732729695559\n",
      "WORD : prate ENTROPY : 4.2460843173031595\n",
      "WORD : trine ENTROPY : 4.2705620807646705\n",
      "WORD : react ENTROPY : 4.256152211791449\n",
      "WORD : earnt ENTROPY : 4.222163124015611\n",
      "WORD : toile ENTROPY : 4.305237254672974\n",
      "WORD : saice ENTROPY : 4.234703266127665\n",
      "WORD : trone ENTROPY : 4.309747312468587\n",
      "WORD : trade ENTROPY : 4.274479668504891\n",
      "WORD : leant ENTROPY : 4.257439197821894\n",
      "WORD : liane ENTROPY : 4.288495984929375\n",
      "WORD : antre ENTROPY : 4.236339843974797\n",
      "WORD : reist ENTROPY : 4.267754988567983\n",
      "WORD : coate ENTROPY : 4.254913611594948\n",
      "WORD : alose ENTROPY : 4.2610142278633365\n",
      "WORD : sorel ENTROPY : 4.283453190027787\n",
      "WORD : urate ENTROPY : 4.221435055023882\n",
      "WORD : olate ENTROPY : 4.267583946993739\n",
      "WORD : slier ENTROPY : 4.249911630973551\n",
      "WORD : teras ENTROPY : 4.234473133199512\n",
      "WORD : stane ENTROPY : 4.296601390632808\n",
      "WORD : trape ENTROPY : 4.281658260296191\n",
      "WORD : rates ENTROPY : 4.256573041150597\n",
      "WORD : parte ENTROPY : 4.247601550781176\n",
      "WORD : learn ENTROPY : 4.253135100692627\n",
      "WORD : peart ENTROPY : 4.257927068458378\n",
      "WORD : paire ENTROPY : 4.229816320971518\n",
      "WORD : roast ENTROPY : 4.356293445556346\n",
      "WORD : cater ENTROPY : 4.271159290077185\n",
      "WORD : stear ENTROPY : 4.227110153214588\n",
      "WORD : setal ENTROPY : 4.262130138634322\n",
      "WORD : stire ENTROPY : 4.292118643813072\n",
      "WORD : teals ENTROPY : 4.284410059308188\n",
      "WORD : aisle ENTROPY : 4.29859373955333\n",
      "WORD : toise ENTROPY : 4.293971888847444\n",
      "WORD : aline ENTROPY : 4.326307952739854\n",
      "WORD : trice ENTROPY : 4.336072999070373\n",
      "WORD : arles ENTROPY : 4.281213118998725\n",
      "WORD : reals ENTROPY : 4.272695502305855\n",
      "WORD : oater ENTROPY : 4.221874023919438\n",
      "WORD : parse ENTROPY : 4.262130496154121\n",
      "WORD : lares ENTROPY : 4.2530347523750205\n",
      "WORD : arets ENTROPY : 4.263256897320905\n",
      "WORD : scare ENTROPY : 4.28795957157725\n",
      "WORD : realo ENTROPY : 4.23723620227661\n",
      "WORD : slart ENTROPY : 4.3477868477487895\n",
      "WORD : roset ENTROPY : 4.299706061476745\n",
      "WORD : laser ENTROPY : 4.248770566846284\n",
      "WORD : aesir ENTROPY : 4.197084271878348\n",
      "WORD : seria ENTROPY : 4.1739904854661845\n",
      "WORD : saute ENTROPY : 4.262842051511065\n",
      "WORD : tries ENTROPY : 4.288010313778571\n",
      "WORD : parle ENTROPY : 4.298817971851272\n",
      "WORD : tales ENTROPY : 4.2986442125041116\n",
      "WORD : rance ENTROPY : 4.316400834156587\n",
      "WORD : litre ENTROPY : 4.2800795721370966\n",
      "WORD : prase ENTROPY : 4.282471762415662\n",
      "WORD : heart ENTROPY : 4.240727719847913\n",
      "WORD : alone ENTROPY : 4.325019745034789\n",
      "WORD : store ENTROPY : 4.336116709444725\n",
      "WORD : ronte ENTROPY : 4.335938431642801\n",
      "WORD : alien ENTROPY : 4.3119627486722525\n",
      "WORD : tared ENTROPY : 4.3058597909805565\n",
      "WORD : rales ENTROPY : 4.281250815274316\n",
      "WORD : share ENTROPY : 4.259028987083542\n",
      "WORD : grate ENTROPY : 4.288136448594057\n",
      "WORD : soler ENTROPY : 4.3193718502263945\n",
      "WORD : stoae ENTROPY : 4.264517602437943\n",
      "WORD : lears ENTROPY : 4.2669263488182105\n",
      "WORD : anile ENTROPY : 4.340233831836771\n",
      "WORD : terai ENTROPY : 4.2275446279078075\n",
      "WORD : sared ENTROPY : 4.310325744570816\n",
      "WORD : trail ENTROPY : 4.3714582325737545\n",
      "WORD : laten ENTROPY : 4.2954464694527745\n",
      "WORD : urase ENTROPY : 4.258201979574358\n",
      "WORD : serai ENTROPY : 4.1926540766288065\n",
      "WORD : alure ENTROPY : 4.239349740159199\n",
      "WORD : siler ENTROPY : 4.299112857118695\n",
      "WORD : scrae ENTROPY : 4.307584889893404\n",
      "WORD : reais ENTROPY : 4.204639049121646\n",
      "WORD : liart ENTROPY : 4.34474235319159\n",
      "WORD : siren ENTROPY : 4.322568948642926\n",
      "WORD : tiler ENTROPY : 4.269216404546393\n",
      "WORD : thrae ENTROPY : 4.255015418807841\n",
      "WORD : snore ENTROPY : 4.345385418284636\n",
      "WORD : reans ENTROPY : 4.3156907511772005\n",
      "WORD : ranes ENTROPY : 4.338950539637433\n",
      "WORD : ariot ENTROPY : 4.307102791627834\n",
      "WORD : rione ENTROPY : 4.373233124134646\n",
      "WORD : derat ENTROPY : 4.2822638693004205\n",
      "WORD : taels ENTROPY : 4.33867885803372\n",
      "WORD : noire ENTROPY : 4.34172815421261\n",
      "WORD : caste ENTROPY : 4.348847376683582\n",
      "WORD : crise ENTROPY : 4.383941443583546\n",
      "WORD : toner ENTROPY : 4.353546744888232\n",
      "WORD : anise ENTROPY : 4.2667890798362835\n",
      "WORD : caser ENTROPY : 4.325501679776936\n",
      "WORD : tores ENTROPY : 4.333364970588785\n",
      "WORD : scale ENTROPY : 4.372610197617384\n",
      "WORD : anole ENTROPY : 4.336855863573151\n",
      "WORD : leats ENTROPY : 4.311371525232297\n",
      "WORD : cares ENTROPY : 4.329684747467954\n",
      "WORD : salue ENTROPY : 4.315605362812983\n",
      "WORD : targe ENTROPY : 4.300929674007013\n",
      "WORD : maire ENTROPY : 4.295013573713325\n",
      "WORD : atone ENTROPY : 4.333707583373363\n",
      "WORD : caner ENTROPY : 4.327908025996381\n",
      "WORD : dealt ENTROPY : 4.357103301933527\n",
      "WORD : tires ENTROPY : 4.322071888860911\n",
      "WORD : thale ENTROPY : 4.331592328967043\n",
      "WORD : relit ENTROPY : 4.287853580010437\n",
      "WORD : laers ENTROPY : 4.2695617214908035\n",
      "WORD : sarge ENTROPY : 4.304978152748668\n",
      "WORD : marse ENTROPY : 4.31907954743253\n",
      "WORD : train ENTROPY : 4.41014022068073\n",
      "WORD : corse ENTROPY : 4.3764142995861\n",
      "WORD : renal ENTROPY : 4.2884834298176795\n",
      "WORD : stile ENTROPY : 4.395763677936314\n",
      "WORD : tolar ENTROPY : 4.343489697890373\n",
      "WORD : plate ENTROPY : 4.370702019391147\n",
      "WORD : spare ENTROPY : 4.325839071708538\n",
      "WORD : lacet ENTROPY : 4.324874802712321\n",
      "WORD : clear ENTROPY : 4.297723693058425\n",
      "WORD : serac ENTROPY : 4.330540031216833\n",
      "WORD : riant ENTROPY : 4.422774991026234\n",
      "WORD : rinse ENTROPY : 4.361974632599767\n",
      "WORD : sitar ENTROPY : 4.381543985304014\n",
      "WORD : oriel ENTROPY : 4.313546275872835\n",
      "WORD : porae ENTROPY : 4.28347584616159\n",
      "WORD : retia ENTROPY : 4.257157029766959\n",
      "WORD : trial ENTROPY : 4.381781162986292\n",
      "WORD : solar ENTROPY : 4.3310059059266806\n",
      "WORD : slade ENTROPY : 4.381345536253397\n",
      "WORD : teary ENTROPY : 4.310057266423535\n",
      "WORD : orant ENTROPY : 4.407961651115342\n",
      "WORD : shale ENTROPY : 4.33183081307139\n",
      "WORD : resit ENTROPY : 4.333053363742395\n",
      "WORD : nares ENTROPY : 4.340764986996185\n",
      "WORD : armet ENTROPY : 4.3133982078544895\n",
      "WORD : glare ENTROPY : 4.327124281142797\n",
      "WORD : aeros ENTROPY : 4.301261954225222\n",
      "WORD : marle ENTROPY : 4.339807444255841\n",
      "WORD : aster ENTROPY : 4.302115296770981\n",
      "WORD : dater ENTROPY : 4.320860201284028\n",
      "WORD : pearl ENTROPY : 4.337920696131231\n",
      "WORD : rouet ENTROPY : 4.306453715804651\n",
      "WORD : aloes ENTROPY : 4.328715826171413\n",
      "WORD : rated ENTROPY : 4.320548154965072\n",
      "WORD : earls ENTROPY : 4.314325709562462\n",
      "WORD : stole ENTROPY : 4.449223595749782\n",
      "WORD : rathe ENTROPY : 4.327758352807385\n",
      "WORD : nacre ENTROPY : 4.354394542567273\n",
      "WORD : paise ENTROPY : 4.306351248552576\n",
      "WORD : deair ENTROPY : 4.312825837287112\n"
     ]
    }
   ],
   "source": [
    "item_list = list(sorted_entropy_dict.items())\n",
    "entropy_dict_two_steps = sorted_entropy_dict.copy()\n",
    "word_list_copy = wordlist.copy()\n",
    "answer_list_copy = answerlist.copy()\n",
    "\n",
    "for i in range(0, 200):\n",
    "    prob_dict1 = find_probability_dict(itemlist[i][0], answerlist)\n",
    "    entropy_dictionary = permutation_dict.copy()\n",
    "    for j in entropy_dictionary.keys():\n",
    "        remaining_words_list = new_list(itemlist[i][0], j, answer_list_copy)\n",
    "        max_entropy = 0\n",
    "        for word in word_list_copy:\n",
    "            prob_dict2 = find_probability_dict(word, remaining_words_list)\n",
    "            entropy = calculate_entropy(prob_dict2)\n",
    "            max_entropy = max(max_entropy, entropy)\n",
    "        entropy_dictionary[j] += max_entropy * prob_dict1.get(j, 0)\n",
    "\n",
    "    avg_entropy = sum(list(entropy_dictionary.values()))\n",
    "    print(\"WORD : \" + itemlist[i][0] + \" ENTROPY : \" + str(avg_entropy))\n",
    "    entropy_dict_two_steps[itemlist[i][0]] += avg_entropy\n",
    "    "
   ]
  },
  {
   "cell_type": "code",
   "execution_count": 31,
   "id": "451d1211-ba29-44fd-8417-1f4db7819ec2",
   "metadata": {
    "scrolled": true
   },
   "outputs": [
    {
     "name": "stdout",
     "output_type": "stream",
     "text": [
      "[('tarse', 10.055789065502687), ('slate', 10.039389286178217), ('slane', 10.037284764807037), ('reast', 10.01965856629241), ('salet', 10.018337577654979), ('trace', 10.018019565846053), ('crate', 10.014507359441517), ('carle', 10.010147005753758), ('sater', 10.00980946500571), ('tiare', 10.006563080409087), ('roast', 10.004724796339833), ('torse', 10.001672954831172), ('carte', 9.9999360049904), ('carse', 9.998114992994116), ('toile', 9.997879201173951), ('trone', 9.99586073534721), ('roate', 9.995459189628235), ('soare', 9.992826007787786), ('ranse', 9.992385221882884), ('raile', 9.99043766763943), ('stare', 9.98932472278296), ('caret', 9.983599569512458), ('crane', 9.979400410252289), ('least', 9.977343724283344), ('stale', 9.977315314563764), ('carne', 9.975176739142272), ('slart', 9.975025985194538), ('raine', 9.973853994838336), ('sacre', 9.973526570852595), ('snare', 9.97087851090006), ('trice', 9.970364214037517), ('liane', 9.970170539739147), ('stole', 9.969438516031188), ('riant', 9.969105689451489), ('trine', 9.968950277898), ('arose', 9.967695875944742), ('irate', 9.967612057136957), ('earst', 9.965606399285573), ('trail', 9.96448492301112), ('train', 9.963070067528635), ('artel', 9.962165636554282), ('taser', 9.961805428875456), ('aline', 9.96075602077526), ('saine', 9.959626971226996), ('strae', 9.95851367371338), ('trade', 9.958400890323379), ('orate', 9.956743018401308), ('stane', 9.956440750370199), ('saner', 9.956075405877195), ('sorel', 9.956042506386328), ('raise', 9.955124585649823), ('react', 9.952659287340909), ('tares', 9.951848107017476), ('crise', 9.95179890478031), ('stile', 9.948408305413848), ('rione', 9.947595768856452), ('prate', 9.947411546360001), ('store', 9.946830487004327), ('reist', 9.945163474619495), ('orant', 9.943401195944865), ('ronte', 9.943002322812784), ('alter', 9.941227413493365), ('leant', 9.941210386300554), ('tears', 9.938345105366748), ('anile', 9.938313826988582), ('trape', 9.938023673150694), ('scale', 9.936520897169878), ('alone', 9.936301718342282), ('arise', 9.936040652728533), ('alose', 9.935755026687863), ('ariel', 9.93532217662493), ('aisle', 9.934235382087929), ('olate', 9.933973477257487), ('taler', 9.933482261018314), ('stire', 9.932792325252414), ('rance', 9.932487323006649), ('coate', 9.930071658424868), ('resat', 9.929400443822164), ('corse', 9.929313709489382), ('liart', 9.929160124459727), ('toise', 9.929129289872076), ('sitar', 9.927587296914933), ('roset', 9.926861758452088), ('saice', 9.925585515124606), ('teals', 9.923047183791944), ('snore', 9.922865211090201), ('ratel', 9.922186355700687), ('soler', 9.921617512900172), ('toner', 9.920756191326635), ('plate', 9.920596658775693), ('caste', 9.920102700645021), ('trial', 9.91979809842351), ('cater', 9.919236908718354), ('alien', 9.919023863042717), ('slade', 9.917098288144572), ('alert', 9.9169266845371), ('parle', 9.916612759536967), ('scare', 9.916368158321589), ('slier', 9.91573902664053), ('tales', 9.915527836461896), ('antre', 9.9153658591573), ('earnt', 9.915037821800375), ('ranes', 9.914876465749664), ('noire', 9.914743257440149), ('arles', 9.913965582824769), ('seral', 9.91372828488015), ('dealt', 9.91326744354932), ('tared', 9.912879194194845), ('taels', 9.912030906389312), ('rates', 9.911996347386763), ('peart', 9.909510253051096), ('tries', 9.90894127637857), ('rinse', 9.908159928862439), ('setal', 9.90695296794156), ('siren', 9.906414622180968), ('learn', 9.905206309378398), ('reals', 9.905155567435747), ('sared', 9.904818556150069), ('parte', 9.903001134834632), ('later', 9.901019944470338), ('anole', 9.90023964894346), ('teras', 9.899929540961562), ('tores', 9.897533938749294), ('prase', 9.896148560551783), ('scrae', 9.894941763050124), ('tolar', 9.89466881779731), ('litre', 9.893971999882567), ('grate', 9.892857519643556), ('reans', 9.892566850158289), ('parse', 9.892286602824242), ('arets', 9.891685609211564), ('caser', 9.8913307094405), ('atone', 9.891161796627909), ('cares', 9.889764618865524), ('urate', 9.889414770935948), ('siler', 9.887719224505915), ('laten', 9.887299757434885), ('rales', 9.886759780258842), ('thale', 9.886033512150156), ('caner', 9.885019536658696), ('saute', 9.884978521204783), ('ariot', 9.881927809930858), ('lares', 9.881736262118395), ('paire', 9.879914775162614), ('tires', 9.878012369589644), ('serac', 9.876951402640142), ('laser', 9.875788906930985), ('spare', 9.875410519505902), ('salue', 9.874980520575242), ('stear', 9.874296454145234), ('nacre', 9.873452205073612), ('lacet', 9.873233440842302), ('nares', 9.87322746575008), ('marse', 9.872794055306466), ('leats', 9.871948780747422), ('marle', 9.86836194090924), ('solar', 9.867950951854962), ('lears', 9.866538464344163), ('shale', 9.866331517836104), ('stoae', 9.86616490666686), ('resit', 9.86611088392393), ('realo', 9.86530427903249), ('share', 9.864511691884346), ('pearl', 9.86411488082268), ('targe', 9.860059525), ('sarge', 9.858803143022955), ('glare', 9.85739339020914), ('derat', 9.856605332783644), ('oriel', 9.854298500882372), ('aloes', 9.853033182971195), ('heart', 9.85298329436484), ('tiler', 9.85276291045982), ('maire', 9.852665638896246), ('oater', 9.852636789143567), ('urase', 9.849972804121077), ('dater', 9.847571977759653), ('rathe', 9.847055105193286), ('armet', 9.845799860841495), ('teary', 9.845524665059369), ('clear', 9.845174212490804), ('rated', 9.844615055091122), ('relit', 9.841854490518818), ('renal', 9.841362929374423), ('earls', 9.836478040538331), ('thrae', 9.835846194573477), ('anise', 9.832706608785996), ('rouet', 9.83157795377441), ('deair', 9.831061800378794), ('aeros', 9.830772868912362), ('aster', 9.830517839714076), ('alure', 9.830021023914881), ('paise', 9.825270089091301), ('porae', 9.823584996802726), ('laers', 9.823516831330938), ('terai', 9.822823346952845), ('aesir', 9.819502182553034), ('seria', 9.796278878872258), ('retia', 9.79538335395402), ('reais', 9.791877609899656), ('serai', 9.783634281970652)]\n"
     ]
    }
   ],
   "source": [
    "sorted_entropy_dict_two_steps = dict(sorted(entropy_dict_two_steps.items(), key = lambda item: item[1], reverse = True))\n",
    "print(list(sorted_entropy_dict_two_steps.items())[0:200])"
   ]
  },
  {
   "cell_type": "code",
   "execution_count": 70,
   "id": "2b69b70a-270a-4935-8c9a-645363a0cd6f",
   "metadata": {},
   "outputs": [],
   "source": [
    "def get_next_guess(remaining_words_list, answer_list):\n",
    "    max = 0\n",
    "    maxword = \"trace\"\n",
    "    permutation = input(\"Enter the result of the guess: \")\n",
    "    answer_list = find_word(maxword, permutation, answer_list)\n",
    "    while permutation != \"GGGGG\" :\n",
    "        if len(answer_list) == 1:\n",
    "            return answer_list[0]\n",
    "        for word in remaining_words_list:\n",
    "            probdict = find_probability_dict(word, answer_list)\n",
    "            entropy = calculate_entropy(probdict)\n",
    "            if entropy > max:\n",
    "                max = entropy\n",
    "                maxword = word\n",
    "        print(\"MAXWORD : \", maxword)\n",
    "        print(len(remaining_words_list))\n",
    "        print(len(answer_list))\n",
    "        permutation = input(\"Enter the result of the guess: \")\n",
    "        answer_list = find_word(maxword, permutation, answer_list)\n",
    "        maxword = answer_list[0]\n",
    "        max = 0"
   ]
  },
  {
   "cell_type": "code",
   "execution_count": 69,
   "id": "62e99760-7f45-4556-a731-35ec49e17aae",
   "metadata": {},
   "outputs": [],
   "source": [
    "def get_next_guess(remaining_words_list, answer_list, starting_word):\n",
    "    max_entropy = 0\n",
    "    maxword = starting_word\n",
    "    original_answer_list = answer_list.copy()\n",
    "    print(\"Word to guess :\", maxword)\n",
    "    result = input(\"Enter the resulting colors :\")\n",
    "    answer_list = new_list(maxword, result , answer_list)\n",
    "    counter = 1\n",
    "    while result != \"GGGGG\" :\n",
    "        if len(answer_list) == 1:\n",
    "            return answer\n",
    "        if len(answer_list) >= 4:\n",
    "            maxword = next_guess_initial_step(remaining_words_list, answer_list)\n",
    "        else:\n",
    "            print(answer_list)\n",
    "            maxword = next_guess_final_step(remaining_words_list, answer_list, [])\n",
    "        max_entropy = 0\n",
    "        counter += 1\n",
    "        print(\"Word to guess :\", maxword)\n",
    "        result = input(\"Enter the resulting colors :\")\n",
    "        answer_list = new_list(maxword, result, answer_list)\n",
    "        answer = answer_list[0]\n",
    "    return answer, counter"
   ]
  },
  {
   "cell_type": "code",
   "execution_count": 96,
   "id": "dc508751-e1ae-4f68-8896-913b33004d4a",
   "metadata": {},
   "outputs": [],
   "source": [
    "def next_guess_initial_step(remaining_words_list, answer_list):\n",
    "    max1 = 0\n",
    "    maxword = \"\"\n",
    "    for word in remaining_words_list:\n",
    "            probdict = find_probability_dict(word, answer_list)\n",
    "            entropy = calculate_entropy(probdict)\n",
    "            if entropy > max1:\n",
    "                max1 = entropy\n",
    "                maxword = word\n",
    "    return maxword"
   ]
  },
  {
   "cell_type": "code",
   "execution_count": 144,
   "id": "3a6b650c-a668-4eff-ab45-dabb539dc7cc",
   "metadata": {},
   "outputs": [],
   "source": [
    "def next_guess_final_step(remaining_words_list, answer_list, original_answer_list):\n",
    "    max1 = 0\n",
    "    maxword = \"\"\n",
    "    for word in remaining_words_list:\n",
    "            probdict = find_probability_dict(word, answer_list)\n",
    "            entropy = calculate_entropy(probdict)\n",
    "            if word not in answer_list:\n",
    "                entropy *= 0.3\n",
    "            if entropy > max1:\n",
    "                max1 = entropy\n",
    "                maxword = word\n",
    "    return maxword"
   ]
  },
  {
   "cell_type": "code",
   "execution_count": 132,
   "id": "0d9ee3c8-fb9a-41bb-a2eb-7924ec39b167",
   "metadata": {},
   "outputs": [],
   "source": [
    "def get_next_guess_automated(remaining_words_list, answer_list, answer, starting_word):\n",
    "    max = 0\n",
    "    maxword = starting_word\n",
    "    original_answer_list = answer_list.copy()\n",
    "    answer_list = new_list(maxword, check_word(maxword, answer) , answer_list)\n",
    "    counter = 1\n",
    "    guess_list = []\n",
    "    guess_list.append(starting_word)\n",
    "    while check_word(maxword, answer) != \"GGGGG\" :\n",
    "        if len(answer_list) == 1:\n",
    "            guess_list.append(answer)\n",
    "            return counter + 1, guess_list\n",
    "        if len(answer_list) >= 4:\n",
    "            maxword = next_guess_initial_step(remaining_words_list, answer_list)\n",
    "        else:\n",
    "            maxword = next_guess_final_step(remaining_words_list, answer_list, original_answer_list)\n",
    "        guess_list.append(maxword)\n",
    "        answer_list = new_list(maxword, check_word(maxword, answer), answer_list)\n",
    "        answer = answer_list[0]\n",
    "        max = 0\n",
    "        counter += 1\n",
    "        \n",
    "    return counter, guess_list"
   ]
  },
  {
   "cell_type": "code",
   "execution_count": 27,
   "id": "c44e61f9-71b1-4571-bd64-821f84a2c079",
   "metadata": {},
   "outputs": [],
   "source": [
    "def store_word_counts(wordlist, answerlist, starting_word):\n",
    "    hash_map = {}\n",
    "    for answer in answerlist:\n",
    "        counter = get_next_guess_automated(wordlist, answerlist, answer, starting_word)\n",
    "        hash_map[answer] = counter\n",
    "    return hash_map"
   ]
  },
  {
   "cell_type": "code",
   "execution_count": 29,
   "id": "bc18bd84-9786-4f72-a203-cc52b559d7ff",
   "metadata": {},
   "outputs": [],
   "source": [
    "def get_word_counts(wordlist, answerlist, starting_word):\n",
    "    counter = 0\n",
    "    for answer in answerlist:\n",
    "        counter += get_next_guess_automated(wordlist, answerlist, answer, starting_word)\n",
    "    return (counter/ len(answerlist))"
   ]
  },
  {
   "cell_type": "code",
   "execution_count": 80,
   "id": "84e05e80-9e5c-4c0c-a937-333f9248c407",
   "metadata": {},
   "outputs": [],
   "source": [
    "def get_word_counts_dictionary(wordlist, answerlist, starting_word):\n",
    "    word_counts_dictionary = {}\n",
    "    for answer in answerlist:\n",
    "        count, guess_list = get_next_guess_automated(wordlist, answerlist, answer, starting_word)\n",
    "        word_counts_dictionary[answer] = {\"count\": count, \"guesses\" : guess_list}\n",
    "    return (word_counts_dictionary)"
   ]
  },
  {
   "cell_type": "markdown",
   "id": "b929a322-e646-49ef-b46d-ee061a2e25c8",
   "metadata": {},
   "source": [
    "Additional: creating an extension to solve wordle puzzles real time."
   ]
  },
  {
   "cell_type": "code",
   "execution_count": null,
   "id": "5eed2876-3a18-4836-be03-74ad335c0551",
   "metadata": {},
   "outputs": [],
   "source": [
    "for i in [\"tarse\", \"salet\", \"slate\", \"reast\", \"trace\", \"crate\"]:\n",
    "    word_counts_dictionary = get_word_counts_dictionary(wordlist, answerlist, i)\n",
    "    with open(i + \"v2.json\", \"w\") as file:\n",
    "        json.dump(word_counts_dictionary, file)"
   ]
  },
  {
   "cell_type": "code",
   "execution_count": null,
   "id": "49208085-4ab3-4a84-847e-ead0b48ec9a5",
   "metadata": {},
   "outputs": [],
   "source": [
    "for i in [\"tarse\", \"salet\", \"slate\", \"reast\", \"trace\", \"crate\"]:\n",
    "    word_counts_dictionary = get_word_counts_dictionary(wordlist, answerlist, i)\n",
    "    with open(i + \"v2.json\", \"w\") as file:\n",
    "        json.dump(word_counts_dictionary, file)"
   ]
  },
  {
   "cell_type": "code",
   "execution_count": 83,
   "id": "6b64f85c-bf51-48ae-8377-f5c3d973ecd1",
   "metadata": {},
   "outputs": [
    {
     "name": "stdout",
     "output_type": "stream",
     "text": [
      "tarse  :  3.432221741013426\n",
      "salet  :  3.440450411433521\n",
      "slate  :  3.426158510177566\n",
      "reast  :  3.4274577739281074\n",
      "trace  :  3.4854915547856216\n",
      "crate  :  3.4928540493720224\n"
     ]
    }
   ],
   "source": [
    "for i in [\"tarse\", \"salet\", \"slate\", \"reast\", \"trace\", \"crate\"]:\n",
    "    with open(\"datasetsv2/\" + i +\"v2.json\", \"r\") as file:\n",
    "        test_dict = json.load(file)\n",
    "        no_of_steps = 0\n",
    "        for j in test_dict.keys():\n",
    "            no_of_steps += test_dict[j][\"count\"]\n",
    "        no_of_steps /= len(test_dict.keys())\n",
    "        print(i , \" : \" ,no_of_steps)"
   ]
  },
  {
   "cell_type": "markdown",
   "id": "5431622d-83be-4ee0-a775-0b200d67f5b2",
   "metadata": {},
   "source": [
    "Least average number of guesses is currently \"SLATE\" with 3.426158510177566 guesses on average.\n",
    "\n",
    "According to Johnathan Olsen and 3Blue1Brown, the optimal answer is supposed to be \"SALET\" with 3.42 implying a minor bug in the code."
   ]
  },
  {
   "cell_type": "code",
   "execution_count": 86,
   "id": "e0227356-4d63-4ebb-bb70-e9807e12bbdf",
   "metadata": {},
   "outputs": [],
   "source": [
    "temp_lists = []\n",
    "for i in [\"tarse\", \"salet\", \"slate\", \"reast\", \"trace\", \"crate\"]:\n",
    "    with open(\"datasetsv2/\" + i +\"v2.json\", \"r\") as file:\n",
    "        temp_list = []\n",
    "        test_dict = json.load(file)\n",
    "        for j in test_dict.keys():\n",
    "            for word in test_dict[j][\"guesses\"]:\n",
    "                if word not in temp_list:\n",
    "                    temp_list.append(word)\n",
    "    temp_lists.append(temp_list)"
   ]
  },
  {
   "cell_type": "code",
   "execution_count": 94,
   "id": "a3b3f3b6-31ea-4104-bb8e-ff5925612cba",
   "metadata": {},
   "outputs": [],
   "source": [
    "for i,j in zip(temp_lists, [\"tarse\", \"salet\", \"slate\", \"reast\", \"trace\", \"crate\"]):\n",
    "    with open(\"usedwords/\" + j +\"v2.json\", \"w\") as file:\n",
    "        json.dump(i, file)"
   ]
  },
  {
   "cell_type": "code",
   "execution_count": 100,
   "id": "a2b33f19-6be5-4af4-b505-5b715c98e8a5",
   "metadata": {},
   "outputs": [],
   "source": [
    "for i in temp_lists[2]:\n",
    "    temp_dict = {}\n",
    "    for j in answerlist:\n",
    "        temp_dict[j] = check_word(i, j)\n",
    "    with open(\"check_word/\" + i + \"_check_word.json\", \"w\") as file:\n",
    "        json.dump(temp_dict, file)"
   ]
  },
  {
   "cell_type": "code",
   "execution_count": 135,
   "id": "0d2e0150-a502-4ab4-96fd-8bd3f8bb9473",
   "metadata": {},
   "outputs": [],
   "source": [
    "for i in slate_dict.keys():\n",
    "    for word in slate_dict[i][\"guesses\"]:\n",
    "        file_path = f\"check_word_shortened/{word}_check_word.json\"\n",
    "\n",
    "        # Load existing data or start fresh\n",
    "        if os.path.exists(file_path):\n",
    "            with open(file_path, \"r\") as file:\n",
    "                try:\n",
    "                    temp_dict = json.load(file)\n",
    "                except json.JSONDecodeError:\n",
    "                    temp_dict = {}\n",
    "        else:\n",
    "            temp_dict = {}\n",
    "\n",
    "        # Update dictionary\n",
    "        temp_dict[i] = check_word(word, i)\n",
    "\n",
    "        # Save updated dictionary\n",
    "        with open(file_path, \"w\") as file:\n",
    "            json.dump(temp_dict, file, indent=2)\n"
   ]
  },
  {
   "cell_type": "code",
   "execution_count": null,
   "id": "1aad00cd-478f-41a8-815c-e7de7b392bcf",
   "metadata": {},
   "outputs": [],
   "source": [
    "word = \"cigar\"\n",
    "with open(\"datasetsv2/\" + \"slate\" +\"v2.json\", \"r\") as file:\n",
    "        test_dict = json.load(file)\n",
    "        guess = \"slate\"\n",
    "        while check_word(guess, word) != \"GGGGG\":\n",
    "            \n",
    "            "
   ]
  },
  {
   "cell_type": "markdown",
   "id": "1a2753a5-10eb-4de9-bbdb-22d6fba0a200",
   "metadata": {},
   "source": [
    "Dump the notebook data into a db file to make it easier to continue progress. <br>\n",
    "Kept it at the bottom because I dont want to accidentally run these."
   ]
  },
  {
   "cell_type": "code",
   "execution_count": 106,
   "id": "3de8ce7f-95d4-401b-887f-654d5687df51",
   "metadata": {},
   "outputs": [
    {
     "name": "stdout",
     "output_type": "stream",
     "text": [
      "In\t Out\t a\t answer\t answer_list_copy\t answerfile\t answerlist\t avg_entropy\t b\t \n",
      "build_permutation_tree\t calculate_entropy\t check_word\t counter\t create_hash_map\t dataframe_columns\t dataframe_hash\t dict1\t dill\t \n",
      "dtypes_str\t entropy\t entropy_dict\t entropy_dict_two_steps\t entropy_dictionary\t file\t find\t find_probability_dict\t find_word\t \n",
      "for_loop\t generate_permutations\t get_dataframes\t get_next_guess\t get_next_guess_automated\t get_word_counts\t getpass\t hashlib\t i\t \n",
      "ifPermutation\t import_pandas_safely\t is_data_frame\t item_list\t itemlist\t itertools\t j\t json\t math\t \n",
      "max_entropy\t maxword\t new_list\t next_guess_final_step\t next_guess_initial_step\t next_word\t no_of_steps\t np\t number_of_steps_list\t \n",
      "open\t perm\t perm_dict\t perm_level2\t permutation_dict\t permutation_dictionary\t permutations\t plt\t prob_dict1\t \n",
      "prob_dict2\t probability_dictionary_dict\t probdict\t remaining_words_list\t sorted_entropy_dict\t sorted_entropy_dict_two_steps\t temp_dict\t temp_list\t temp_lists\t \n",
      "test_dict\t word\t word_list_copy\t word_map\t wordfile\t wordlist\t y\t \n"
     ]
    }
   ],
   "source": [
    "%who"
   ]
  },
  {
   "cell_type": "markdown",
   "id": "6d6f4445-e14f-48ae-bd83-3bb45d6b6ad0",
   "metadata": {},
   "source": [
    "Final thoughts: i can definitely guess all the words. \n",
    "\n",
    "eg : if perm is NNYNN then the next thing to run is always morin\n",
    "\n",
    "instead of current dict:\n",
    "create a dict where NNYNN : morin\n",
    "etc\n"
   ]
  },
  {
   "cell_type": "code",
   "execution_count": null,
   "id": "81be46e0-5908-4a00-8ec1-c485d9e1cfee",
   "metadata": {},
   "outputs": [],
   "source": []
  },
  {
   "cell_type": "code",
   "execution_count": 3,
   "id": "223933b8-fc7a-4a36-aedb-0e442d72c97b",
   "metadata": {},
   "outputs": [],
   "source": [
    "import dill\n",
    "dill.load_session('notebook_env.db')"
   ]
  },
  {
   "cell_type": "code",
   "execution_count": 145,
   "id": "e84f7e8b-dee6-4acf-8bd0-52a1b3c48d4b",
   "metadata": {},
   "outputs": [],
   "source": [
    "dill.dump_session(\"notebook_env.db\")"
   ]
  },
  {
   "cell_type": "code",
   "execution_count": null,
   "id": "e0dbf350-ec77-4955-aeb6-2de453db28c1",
   "metadata": {},
   "outputs": [],
   "source": []
  },
  {
   "cell_type": "code",
   "execution_count": null,
   "id": "578f6ab0-b5fc-4ec0-a65b-31034661c215",
   "metadata": {},
   "outputs": [],
   "source": []
  }
 ],
 "metadata": {
  "kernelspec": {
   "display_name": "Python 3 (ipykernel)",
   "language": "python",
   "name": "python3"
  },
  "language_info": {
   "codemirror_mode": {
    "name": "ipython",
    "version": 3
   },
   "file_extension": ".py",
   "mimetype": "text/x-python",
   "name": "python",
   "nbconvert_exporter": "python",
   "pygments_lexer": "ipython3",
   "version": "3.12.7"
  }
 },
 "nbformat": 4,
 "nbformat_minor": 5
}
